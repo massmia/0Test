{
  "nbformat": 4,
  "nbformat_minor": 0,
  "metadata": {
    "colab": {
      "name": "GD2Mega.ipynb",
      "provenance": [],
      "collapsed_sections": [
        "tLmp9oZFMlaa"
      ]
    },
    "kernelspec": {
      "name": "python3",
      "display_name": "Python 3"
    }
  },
  "cells": [
    {
      "cell_type": "markdown",
      "source": [
        "**First! Connect your Google Account using anyone of the Following option:**"
      ],
      "metadata": {
        "id": "CnhQPWgo5kfq"
      }
    },
    {
      "cell_type": "code",
      "metadata": {
        "id": "hhrlGJpaMqiV",
        "cellView": "form"
      },
      "source": [
        "#@markdown <br><center><img src=\"https://upload.wikimedia.org/wikipedia/commons/thumb/d/da/Google_Drive_logo.png/600px-Google_Drive_logo.png\" height=\"50\" alt=\"Gdrive-logo' \"/></center>\n",
        "#@markdown <center><h3>Connect to Google Account</h3></center><br>\n",
        "MODE = \"MOUNT\" #@param [\"MOUNT\", \"UNMOUNT\"]\n",
        "#Mount your Gdrive! \n",
        "from google.colab import drive\n",
        "drive.mount._DEBUG = False\n",
        "if MODE == \"MOUNT\":\n",
        "  drive.mount('/gdrive', force_remount=True)\n",
        "elif MODE == \"UNMOUNT\":\n",
        "  try:\n",
        "    drive.flush_and_unmount()\n",
        "  except ValueError:\n",
        "    pass\n",
        "  get_ipython().system_raw(\"rm -rf /root/.config/Google/DriveFS\")"
      ],
      "execution_count": null,
      "outputs": []
    },
    {
      "cell_type": "markdown",
      "source": [
        "**You can also Check the Speed from which the Google Will transfer your files: Run the Following Code**"
      ],
      "metadata": {
        "id": "QJ0Dgn6Wxv7W"
      }
    },
    {
      "cell_type": "code",
      "source": [
        "#@markdown <br><center><img src='https://github.com/TheCaduceus/Google-Drive-Cloner/blob/main/Img/st.jpeg?raw=true' height=\"50\" alt=\"ST-logo\"/></center>\n",
        "#@markdown <center><h3>Check Transfer Speed!</h3></center><br>\n",
        "!curl -s https://raw.githubusercontent.com/sivel/speedtest-cli/master/speedtest.py | python"
      ],
      "metadata": {
        "cellView": "form",
        "id": "4LzFwXi7x-0V"
      },
      "execution_count": null,
      "outputs": []
    },
    {
      "cell_type": "markdown",
      "source": [
        "**To Transfer File/Folder from My Drive: You need the file or folder name, So run the following code to get it and copy it. If you need to trasfer multiple files then move them to a Folder and Copy Folder name by Running bellow Code**"
      ],
      "metadata": {
        "id": "kqZ8q-Yf83_x"
      }
    },
    {
      "cell_type": "code",
      "source": [
        "#@markdown <br><center><img src='https://upload.wikimedia.org/wikipedia/commons/thumb/d/da/Google_Drive_logo.png/600px-Google_Drive_logo.png' height=\"50\" alt=\"Gdrive-logo\"/></center>\n",
        "#@markdown <center><h3>Show Name of Files in My Drive</h3></center><br>\n",
        "!ls '/gdrive/My Drive/'"
      ],
      "metadata": {
        "cellView": "form",
        "id": "MwS-WaEk7DGD"
      },
      "execution_count": null,
      "outputs": []
    },
    {
      "cell_type": "markdown",
      "source": [
        "**To transfer Files/Folder from Shared Drive: Run the Following Code to Get NAME of all Shared Drives available in your Google Drive and copy one name without(\" \")**"
      ],
      "metadata": {
        "id": "9U-R7HsZFUVQ"
      }
    },
    {
      "cell_type": "code",
      "source": [
        "#@markdown <br><center><img src='https://upload.wikimedia.org/wikipedia/commons/thumb/d/da/Google_Drive_logo.png/600px-Google_Drive_logo.png' height=\"50\" alt=\"Gdrive-logo\"/></center>\n",
        "#@markdown <center><h3>Show Name of Shared Drives</h3></center><br>\n",
        "!ls '/gdrive/Shared drives/'"
      ],
      "metadata": {
        "cellView": "form",
        "id": "JdSZa-tF_375"
      },
      "execution_count": null,
      "outputs": []
    },
    {
      "cell_type": "markdown",
      "source": [
        "**Now replace \"SHARED DRIVE NAME\" with the name of Shared Drive (Paste the name which you copied from above code!) from which you have to trasfer File/Folders to View the NAMES of all Files and Folder in the Shared Drive and also copy the File/Folder Name for next step.**"
      ],
      "metadata": {
        "id": "g2X3SrCPKNsp"
      }
    },
    {
      "cell_type": "code",
      "source": [
        "!ls '/gdrive/Shared drives/SHARED DRIVE NAME'"
      ],
      "metadata": {
        "id": "Z_3igYmjKS-P"
      },
      "execution_count": null,
      "outputs": []
    },
    {
      "cell_type": "markdown",
      "source": [
        "**Finally! Lets make the complete Path or Address to your File or Folder which needs to be uploaded:**"
      ],
      "metadata": {
        "id": "BGABSOEhRI_v"
      }
    },
    {
      "cell_type": "markdown",
      "source": [
        "**PATH or ADDRESS for Files and Folder in My Drive: Replace \"FILE OR FOLDER NAME\" with name of File or Folder which needs to be uploaded and copy the all path for next step.**"
      ],
      "metadata": {
        "id": "pBHSyyJoTo6v"
      }
    },
    {
      "cell_type": "code",
      "source": [
        "#@markdown <br><center><img src='https://upload.wikimedia.org/wikipedia/commons/thumb/d/da/Google_Drive_logo.png/600px-Google_Drive_logo.png' height=\"50\" alt=\"netdata\"/></center>\n",
        "#@markdown <center><h2>Path For My Drive File/Folder</h2></center><br>\n",
        "MyDrive_PATH = \"/content/drive/My Drive/FILE OR FOLDER NAME\" #@param {type:\"string\"}"
      ],
      "metadata": {
        "cellView": "form",
        "id": "CNYcyQNwRWBA"
      },
      "execution_count": null,
      "outputs": []
    },
    {
      "cell_type": "markdown",
      "source": [
        "**PATH or ADDRESS for Files or Folder in Shared Drive: Replace \"SHARED DRIVE NAME\" with Shared Drive name from which File/Folder needs to be uploaded from and replace \"FILE OR FOLDER NAME\" with File or Folder name which needs to uploaded and copy the PATH for next step.**"
      ],
      "metadata": {
        "id": "JEdUWVPlUJAB"
      }
    },
    {
      "cell_type": "code",
      "source": [
        "#@markdown <br><center><img src='https://upload.wikimedia.org/wikipedia/commons/thumb/d/da/Google_Drive_logo.png/600px-Google_Drive_logo.png' height=\"50\" alt=\"netdata\"/></center>\n",
        "#@markdown <center><h2>Path For File and Folder in Shared Drive</h2></center><br>\n",
        "SharedDrive_PATH = \"/gdrive/Shared drives/SHARED DRIVE NAME/FILE OR FOLDER NAME\" #@param {type:\"string\"}"
      ],
      "metadata": {
        "cellView": "form",
        "id": "iJqmlxqPUVoW"
      },
      "execution_count": null,
      "outputs": []
    },
    {
      "cell_type": "markdown",
      "metadata": {
        "id": "2_o8HDUwNUnn"
      },
      "source": [
        "#`Mega transfer`\n"
      ]
    },
    {
      "cell_type": "code",
      "metadata": {
        "id": "eGlOnXjoNzFX",
        "cellView": "form"
      },
      "source": [
        "#@markdown <br><center><img src='https://is1-ssl.mzstatic.com/image/thumb/Purple115/v4/d3/dd/e8/d3dde82d-03a8-3df0-ef06-b5433aae4fa3/source/512x512bb.jpg' height=\"50\" alt=\"Gdrive-logo\"/></center>\n",
        "# @markdown <center><h2>CONNECT YOUR MEGA ACCOUNT</h2></center><br>\n",
        "\n",
        "\n",
        "from functools import wraps\n",
        "import errno\n",
        "import os\n",
        "import signal\n",
        "import subprocess\n",
        "import shlex\n",
        "\n",
        "\n",
        "class TimeoutError(Exception):\n",
        "    pass\n",
        "\n",
        "\n",
        "def timeout(seconds=10, error_message=os.strerror(errno.ETIME)):\n",
        "    def decorator(func):\n",
        "        def _handle_timeout(signum, frame):\n",
        "            raise TimeoutError(error_message)\n",
        "\n",
        "        def wrapper(*args, **kwargs):\n",
        "            signal.signal(signal.SIGALRM, _handle_timeout)\n",
        "            signal.alarm(seconds)\n",
        "            try:\n",
        "                result = func(*args, **kwargs)\n",
        "            finally:\n",
        "                signal.alarm(0)\n",
        "            return result\n",
        "\n",
        "        return wraps(func)(wrapper)\n",
        "\n",
        "    return decorator\n",
        "\n",
        "\n",
        "if not os.path.exists(\"/root/.ipython/ocr.py\"):\n",
        "    from subprocess import run\n",
        "    from shlex import split\n",
        "\n",
        "    shellCmd = \"wget -qq https://raw.githubusercontent.com/biplobsd/OneClickRun/master/res/ocr.py \\\n",
        "                    -O /root/.ipython/ocr.py\"\n",
        "    run(split(shellCmd))\n",
        "from ocr import runSh\n",
        "\n",
        "@timeout(10)\n",
        "def runShT(args):\n",
        "    return runSh(args, output=True)\n",
        "\n",
        "\n",
        "# MEGAcmd installing\n",
        "if not os.path.exists(\"/usr/bin/mega-cmd\"):\n",
        "    print(\"Installing MEGA ...\")\n",
        "    runSh('sudo apt-get -y update')\n",
        "    runSh('sudo apt-get -y install libmms0 libc-ares2 libc6 libcrypto++6 libgcc1 libmediainfo0v5 libpcre3 libpcrecpp0v5 libssl1.1 libstdc++6 libzen0v5 zlib1g apt-transport-https')\n",
        "    runSh('sudo curl -sL -o /var/cache/apt/archives/MEGAcmd.deb https://mega.nz/linux/MEGAsync/Debian_9.0/amd64/megacmd-Debian_9.0_amd64.deb', output=True)\n",
        "    runSh('sudo dpkg -i /var/cache/apt/archives/MEGAcmd.deb', output=True)\n",
        "    print(\"MEGA is installed.\")\n",
        "else:\n",
        "    !pkill mega-cmd\n",
        "\n",
        "# INPUT YOUR MEGA ID\n",
        "\n",
        "USERNAME = \"\"  # @param {type:\"string\"}\n",
        "PASSWORD = \"\"  # @param {type:\"string\"}\n",
        "if not (USERNAME == \"\" or PASSWORD == \"\"):\n",
        "    try:\n",
        "        runShT(f\"mega-login {USERNAME} {PASSWORD}\")\n",
        "    except TimeoutError:\n",
        "        runSh('mega-whoami', output=True)\n",
        "else:\n",
        "    print(\"Please Enter your Mega ID and Password.\")\n"
      ],
      "execution_count": null,
      "outputs": []
    },
    {
      "cell_type": "markdown",
      "source": [
        "**Now paste the PATH which you copied from the above to start transfer process!**"
      ],
      "metadata": {
        "id": "Bs_Ai7JQV6pr"
      }
    },
    {
      "cell_type": "code",
      "metadata": {
        "id": "gw_9_lmWOTTg",
        "cellView": "form"
      },
      "source": [
        "import time\n",
        "import subprocess\n",
        "import contextlib\n",
        "from IPython.display import clear_output\n",
        "# @markdown <br><center><img src='https://i.imgur.com/UjCRbEF.png' height=\"300\" alt=\"netdata\"/></center>\n",
        "# @markdown <center><h2>TRANSFER NOW</h2></center><br>\n",
        "# TRANSFER NOW\n",
        "\n",
        "PATH_TO_FILE = \"\"  # @param {type:\"string\"}\n",
        "# Unix, Windows and old Macintosh end-of-line\n",
        "newlines = ['\\n', '\\r\\n', '\\r']\n",
        "\n",
        "\n",
        "def unbuffered(proc, stream='stdout'):\n",
        "    stream = getattr(proc, stream)\n",
        "    with contextlib.closing(stream):\n",
        "        while True:\n",
        "            out = []\n",
        "            last = stream.read(1)\n",
        "            # Don't loop forever\n",
        "            if last == '' and proc.poll() is not None:\n",
        "                break\n",
        "            while last not in newlines:\n",
        "                # Don't loop forever\n",
        "                if last == '' and proc.poll() is not None:\n",
        "                    break\n",
        "                out.append(last)\n",
        "                last = stream.read(1)\n",
        "            out = ''.join(out)\n",
        "            yield out\n",
        "\n",
        "\n",
        "def transfare():\n",
        "    cmd = ['mega-put', PATH_TO_FILE, '/colab']\n",
        "    proc = subprocess.Popen(\n",
        "        cmd,\n",
        "        stdout=subprocess.PIPE,\n",
        "        stderr=subprocess.STDOUT,\n",
        "        # Make all end-of-lines '\\n'\n",
        "        universal_newlines=True,\n",
        "    )\n",
        "    for line in unbuffered(proc):\n",
        "        clear_output(wait=True)\n",
        "        print(line)\n",
        "\n",
        "try:\n",
        "    transfare()\n",
        "except FileNotFoundError:\n",
        "    print(\"Check the File path!\")\n"
      ],
      "execution_count": null,
      "outputs": []
    },
    {
      "cell_type": "markdown",
      "source": [
        "**Google Collab Time Out Preventer! Run the Following code to Prevent Google Collab from getting Time Out. But first above Code then at end run this!**"
      ],
      "metadata": {
        "id": "SZIQ4OL-Z6tC"
      }
    },
    {
      "cell_type": "code",
      "source": [
        "#@markdown <br><center><img src='https://miro.medium.com/max/2036/1*GW4cqNv-SIQ9BGGhssL1bQ.png' height=\"100\" alt=\"netdata\"/></center>\n",
        "#@markdown <center><h2>Timeout Preventer</h2></center><br>\n",
        "while True:pass"
      ],
      "metadata": {
        "cellView": "form",
        "id": "htYzNmRUaDDo"
      },
      "execution_count": null,
      "outputs": []
    }
  ]
}