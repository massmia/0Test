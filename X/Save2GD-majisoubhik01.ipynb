{
  "cells": [
    {
      "cell_type": "markdown",
      "metadata": {
        "id": "WYVEeS6_nqZx"
      },
      "source": [
        "# **<font color='blue'> Any file to Google Drive - Shared by [mayhemongithub](https://github.com/mayhemongithub) </font>**"
      ]
    },
    {
      "cell_type": "markdown",
      "metadata": {
        "id": "TDyk4SnauRnw"
      },
      "source": [
        "##__Mount GDrive to /content/drive__ Using Google Drive File Stream"
      ]
    },
    {
      "cell_type": "code",
      "execution_count": null,
      "metadata": {
        "cellView": "form",
        "id": "no52Wsfj_9cE"
      },
      "outputs": [],
      "source": [
        "#@markdown <br><center><img src='https://upload.wikimedia.org/wikipedia/commons/thumb/d/da/Google_Drive_logo.png/600px-Google_Drive_logo.png' height=\"50\" alt=\"Gdrive-logo\"/></center>\n",
        "#@markdown <center><h3>Mount GDrive to /content/drive</h3></center><br>\n",
        "MODE = \"MOUNT\" #@param [\"MOUNT\", \"UNMOUNT\"]\n",
        "#Mount your Gdrive! \n",
        "from google.colab import drive\n",
        "drive.mount._DEBUG = False\n",
        "if MODE == \"MOUNT\":\n",
        "  drive.mount('/content/drive', force_remount=True)\n",
        "elif MODE == \"UNMOUNT\":\n",
        "  try:\n",
        "    drive.flush_and_unmount()\n",
        "  except ValueError:\n",
        "    pass\n",
        "  get_ipython().system_raw(\"rm -rf /root/.config/Google/DriveFS\")\n"
      ]
    },
    {
      "cell_type": "code",
      "execution_count": null,
      "metadata": {
        "cellView": "form",
        "id": "5L-5WuSGBRYn"
      },
      "outputs": [],
      "source": [
        "#@title\n",
        "import sys, os, urllib.request\n",
        "import time\n",
        "import subprocess\n",
        "import contextlib\n",
        "from IPython.display import clear_output\n",
        "import requests \n",
        "#@markdown <br><p align='center'>\n",
        "#@markdown      <img src='https://upload.wikimedia.org/wikipedia/commons/e/ee/Chain_link_icon.png' height=\"40\" alt=\"Direct Link Pic\"/></center>\n",
        "#@markdown      <img src='https://img.icons8.com/plasticine/2x/arrow.png' height=\"50\" alt=\"Right Arrow Pic\"/></center>\n",
        "#@markdown      <img src='https://upload.wikimedia.org/wikipedia/commons/thumb/d/da/Google_Drive_logo.png/600px-Google_Drive_logo.png' height=\"50\" alt=\"GDrive-logo\"/></center>\n",
        "#@markdown </p>\n",
        "#@markdown <center><h2>Transfer from Direct Link to GDrive</h2></center><br>\n",
        "FILE_URL = \"\" #@param {type:\"string\"}\n",
        "OUTPUT_PATH = \"\" #@param {type:\"string\"}\n",
        "EXTENSION_OF_THE_FILE_TO_BE_DOWNLOADED = \"\" #@param {type:\"string\"}\n",
        "NAME_OF_THE_FILE_TO_BE_DOWNLOADED = \"\" #@param {type:\"string\"}\n",
        "if not OUTPUT_PATH:\n",
        "  os.makedirs(\"downloads\", exist_ok=True)\n",
        "  OUTPUT_PATH = \"downloads\"\n",
        "\n",
        "if not NAME_OF_THE_FILE_TO_BE_DOWNLOADED:\n",
        "  os.makedirs(\"file\", exist_ok=True)\n",
        "  NAME_OF_THE_FILE_TO_BE_DOWNLOADED = \"file\"\n",
        "\n",
        "if not EXTENSION_OF_THE_FILE_TO_BE_DOWNLOADED:\n",
        "  os.makedirs(\"file\", exist_ok=True)\n",
        "  EXTENSION_OF_THE_FILE_TO_BE_DOWNLOADED = \"file\"\n",
        "\n",
        "r = requests.get(FILE_URL, stream = True) \n",
        "\n",
        "with open(OUTPUT_PATH+\"/\"+NAME_OF_THE_FILE_TO_BE_DOWNLOADED+\".\"+EXTENSION_OF_THE_FILE_TO_BE_DOWNLOADED, \"wb\") as file: \n",
        "    for block in r.iter_content(chunk_size = 1024): \n",
        "        if block: \n",
        "            file.write(block) "
      ]
    },
    {
      "cell_type": "markdown",
      "metadata": {
        "id": "-UOdp4-5u1GS"
      },
      "source": [
        "If you want to customise this copy of colab notebook more, fork this project from the repo on Github: \n",
        "<a href=\"https://github.com/mayhemongithub/Transfer-To-Google-Drive-via-direct-links\">Transfer To Google Drive via direct links</a>"
      ]
    }
  ],
  "metadata": {
    "colab": {
      "name": "transfer to google drive with direct links.ipynb",
      "provenance": []
    },
    "kernelspec": {
      "display_name": "Python 3",
      "language": "python",
      "name": "python3"
    },
    "language_info": {
      "codemirror_mode": {
        "name": "ipython",
        "version": 3
      },
      "file_extension": ".py",
      "mimetype": "text/x-python",
      "name": "python",
      "nbconvert_exporter": "python",
      "pygments_lexer": "ipython3",
      "version": "3.8.5"
    }
  },
  "nbformat": 4,
  "nbformat_minor": 0
}