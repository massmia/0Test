{
  "nbformat": 4,
  "nbformat_minor": 0,
  "metadata": {
    "colab": {
      "name": "Packer & Extractor Master Google Drive",
      "provenance": [],
      "collapsed_sections": [
        "CFFPQjl-iX0m",
        "hi4f8Ba-diVf",
        "bAls_UEYfwIX",
        "IoAshgcf45gs",
        "o1PFiGyMAMvg",
        "mOnUdLJqVaYA",
        "VKdYIG49VaYA",
        "BjYXYIk0VaYE",
        "Dm58cAVSAFbr"
      ]
    },
    "kernelspec": {
      "name": "python3",
      "display_name": "Python 3"
    },
    "accelerator": "GPU"
  },
  "cells": [
    {
      "cell_type": "markdown",
      "metadata": {
        "id": "CFFPQjl-iX0m"
      },
      "source": [
        "**First! Connect your Google Account**\n",
        "\n"
      ]
    },
    {
      "cell_type": "code",
      "metadata": {
        "id": "TfWtGXmqbggL",
        "cellView": "form"
      },
      "source": [
        "#@markdown <br><center><img src=\"https://upload.wikimedia.org/wikipedia/commons/thumb/d/da/Google_Drive_logo.png/600px-Google_Drive_logo.png\" height=\"50\" alt=\"Gdrive-logo' \"/></center>\n",
        "#@markdown <center><h3>Connect to Google Account</h3></center><br>\n",
        "MODE = \"MOUNT\" #@param [\"MOUNT\", \"UNMOUNT\"]\n",
        "#Mount your Gdrive! \n",
        "from google.colab import drive\n",
        "drive.mount._DEBUG = False\n",
        "if MODE == \"MOUNT\":\n",
        "  drive.mount('/gdrive', force_remount=True)\n",
        "elif MODE == \"UNMOUNT\":\n",
        "  try:\n",
        "    drive.flush_and_unmount()\n",
        "  except ValueError:\n",
        "    pass\n",
        "  get_ipython().system_raw(\"rm -rf /root/.config/Google/DriveFS\")"
      ],
      "execution_count": null,
      "outputs": []
    },
    {
      "cell_type": "markdown",
      "source": [
        "**Google Colab Timeout Preventer! Run this Code to prevent TIMEOUT in Google Colab.Before running any code run this!**"
      ],
      "metadata": {
        "id": "S5M1OURDZpZ0"
      }
    },
    {
      "cell_type": "code",
      "source": [
        "#@markdown <br><center><img src='https://miro.medium.com/max/2036/1*GW4cqNv-SIQ9BGGhssL1bQ.png' height=\"100\" alt=\"netdata\"/></center>\n",
        "#@title <center>Time Out Preventer (Advanced) </center></strong>\n",
        "%%capture\n",
        "AUTO_RECONNECT = True #@param {type:\"boolean\"}\n",
        "#@markdown **Run this code to prevent NOTEBOOK from Timeout**\n",
        "from os import makedirs\n",
        "makedirs(\"/root/.config/rclone\", exist_ok = True)\n",
        "if AUTO_RECONNECT:\n",
        "  import IPython\n",
        "  from google.colab import output\n",
        "\n",
        "  display(IPython.display.Javascript('''\n",
        "  function ClickConnect(){\n",
        "    btn = document.querySelector(\"colab-connect-button\")\n",
        "    if (btn != null){\n",
        "      console.log(\"Click colab-connect-button\"); \n",
        "      btn.click() \n",
        "      }\n",
        "    \n",
        "    btn = document.getElementById('ok')\n",
        "    if (btn != null){\n",
        "      console.log(\"Click reconnect\"); \n",
        "      btn.click() \n",
        "      }\n",
        "    }\n",
        "    \n",
        "  setInterval(ClickConnect,60000)\n",
        "  '''))"
      ],
      "metadata": {
        "cellView": "form",
        "id": "1tf31kh0ZfXp"
      },
      "execution_count": null,
      "outputs": []
    },
    {
      "cell_type": "markdown",
      "metadata": {
        "id": "hi4f8Ba-diVf"
      },
      "source": [
        "#**Unzip/Unrar/Untar Files: My Drive to My Drive**"
      ]
    },
    {
      "cell_type": "markdown",
      "metadata": {
        "id": "bAls_UEYfwIX"
      },
      "source": [
        "###**Unzip Files**: \n",
        "\n"
      ]
    },
    {
      "cell_type": "markdown",
      "source": [
        "**Replace \"<font color=\"yellow\">FILE NAME</font>\" with name of File which needs to be unzipped!**"
      ],
      "metadata": {
        "id": "_UJiMHja-SB2"
      }
    },
    {
      "cell_type": "code",
      "metadata": {
        "id": "O1_kc7HBeslm",
        "cellView": "both"
      },
      "source": [
        "!unzip \"/gdrive/My Drive/FILE NAME.zip\" -d \"/gdrive/My Drive/\""
      ],
      "execution_count": null,
      "outputs": []
    },
    {
      "cell_type": "markdown",
      "metadata": {
        "id": "IoAshgcf45gs"
      },
      "source": [
        "###**Unrar Files**\n",
        "\n",
        "\n",
        "\n"
      ]
    },
    {
      "cell_type": "markdown",
      "source": [
        "**Unrar Normal File:**"
      ],
      "metadata": {
        "id": "Gg9aGfpn2CfC"
      }
    },
    {
      "cell_type": "markdown",
      "source": [
        "**Replace \"<font color=\"yellow\">FILE NAME</font>\" with name of File which needs to be UnRAR!**"
      ],
      "metadata": {
        "id": "QGz4tBhw-2VG"
      }
    },
    {
      "cell_type": "code",
      "metadata": {
        "id": "5ScZvnCdzKm3",
        "cellView": "both"
      },
      "source": [
        "!unrar x \"/gdrive/My Drive/FILE NAME.rar\" \"/gdrive/My Drive/\""
      ],
      "execution_count": null,
      "outputs": []
    },
    {
      "cell_type": "markdown",
      "source": [
        "**UnRAR Password Protected File:**"
      ],
      "metadata": {
        "id": "I5X4pljq1Mgx"
      }
    },
    {
      "cell_type": "markdown",
      "source": [
        "**To UnRAR Password Protected File Replace \"<font color=\"yellow\">FILE NAME</font>\" which needs to be UNRAR then Run the Code and Enter Password!"
      ],
      "metadata": {
        "id": "Xdmo0jEs_Uax"
      }
    },
    {
      "cell_type": "markdown",
      "source": [
        "**<font color=\"red\">After Running the Code! Enter Password to UnRaR</font>**"
      ],
      "metadata": {
        "id": "vDLItav2a3Dk"
      }
    },
    {
      "cell_type": "code",
      "source": [
        "!unrar x -Y \"/gdrive/My Drive/FILE NAME.rar\" \"/gdrive/My Drive/\""
      ],
      "metadata": {
        "id": "VxwP2krd1J_h"
      },
      "execution_count": null,
      "outputs": []
    },
    {
      "cell_type": "markdown",
      "metadata": {
        "id": "o1PFiGyMAMvg"
      },
      "source": [
        "###**Untar Files**\n",
        "\n"
      ]
    },
    {
      "cell_type": "markdown",
      "source": [
        "**Extract Tar File:**"
      ],
      "metadata": {
        "id": "k8n-z7-42p7k"
      }
    },
    {
      "cell_type": "markdown",
      "source": [
        "**Replace \"<font color=\"yellow\">FILE NAME</font>\" with name of File which needs to be UnTar! The File will automatically get UnTar in \"Extracted\" Folder.**"
      ],
      "metadata": {
        "id": "YNUJ-RBJCYpw"
      }
    },
    {
      "cell_type": "code",
      "metadata": {
        "cellView": "both",
        "id": "EKjIowyWAMvh"
      },
      "source": [
        "!tar -xvf \"/gdrive/My Drive/FILE NAME.tar\" -C \"/gdrive/My Drive/\""
      ],
      "execution_count": null,
      "outputs": []
    },
    {
      "cell_type": "markdown",
      "source": [
        "**Extract Tar.gz File:**"
      ],
      "metadata": {
        "id": "_CLlsR-I2xk8"
      }
    },
    {
      "cell_type": "markdown",
      "source": [
        "**Replace \"<font color=\"yellow\">FILE NAME</font>\" with name of File which needs to be UnTar.gz! The File will automatically get UnTar in \"Extracted\" Folder.**"
      ],
      "metadata": {
        "id": "vutqR5WdDLaS"
      }
    },
    {
      "cell_type": "code",
      "metadata": {
        "id": "YfSkw7IFH2pl"
      },
      "source": [
        "!tar -xzvf \"/gdrive/My Drive/FILE NAME.tar.gz\" -C \"/gdrive/My Drive/\""
      ],
      "execution_count": null,
      "outputs": []
    },
    {
      "cell_type": "markdown",
      "source": [
        "**Extract Tar.bz2 File:**"
      ],
      "metadata": {
        "id": "-ZMyevnK28WV"
      }
    },
    {
      "cell_type": "markdown",
      "source": [
        "**Replace \"<font color=\"yellow\">FILE NAME</font>\" with name of File which needs to be UnTar.bz2! The File will automatically get UnTar in \"Extracted\" Folder.**"
      ],
      "metadata": {
        "id": "LdGO_r1hDWV5"
      }
    },
    {
      "cell_type": "code",
      "metadata": {
        "id": "tVaZLH-hH54z"
      },
      "source": [
        "!tar -xjvf \"/gdrive/My Drive/FILE NAME.tar.bz2\" -C \"/gdrive/My Drive/\" "
      ],
      "execution_count": null,
      "outputs": []
    },
    {
      "cell_type": "markdown",
      "metadata": {
        "id": "mOnUdLJqVaYA"
      },
      "source": [
        "#**Zip/Rar/Tar Files/Folders: My Drive to My Drive**"
      ]
    },
    {
      "cell_type": "markdown",
      "metadata": {
        "id": "VKdYIG49VaYA"
      },
      "source": [
        "##**Zip Files/Folders**\n"
      ]
    },
    {
      "cell_type": "markdown",
      "source": [
        "**Replace \"<font color=\"yellow\">OUTPUT FILE NAME</font>\" with the name you want to give file after getting Packed into .zip and Replace \"<font color=\"yellow\">FILE OR FOLDER NAME</font>\" with the name of file(with format)/Folder which needs to be converted!**"
      ],
      "metadata": {
        "id": "DOgJz-k3D1Fy"
      }
    },
    {
      "cell_type": "code",
      "metadata": {
        "cellView": "both",
        "id": "zZ4DrMhmVaYB"
      },
      "source": [
        "!zip \"/gdrive/My Drive/OUTPUT FILE NAME\" \"/gdrive/My Drive/FILE OR FOLDER NAME\""
      ],
      "execution_count": null,
      "outputs": []
    },
    {
      "cell_type": "markdown",
      "metadata": {
        "id": "BjYXYIk0VaYE"
      },
      "source": [
        "##**Rar Files/Folders:**\n",
        "\n",
        "\n",
        "\n"
      ]
    },
    {
      "cell_type": "markdown",
      "source": [
        "**To Pack Files into RAR First download required Files by Running below code**"
      ],
      "metadata": {
        "id": "1-f_xBz46Lft"
      }
    },
    {
      "cell_type": "code",
      "metadata": {
        "id": "lNeNaDMSWHFI",
        "cellView": "form"
      },
      "source": [
        "#@markdown <br><center><img src='https://github.com/TheCaduceus/Torrent-to-GoogleDrive/blob/main/Img/80.png?raw=true' height=\"50\">\n",
        "#@markdown <center><h3>Download Required Files for RAR</h3></center>\n",
        "\n",
        "!apt-get install rar"
      ],
      "execution_count": null,
      "outputs": []
    },
    {
      "cell_type": "markdown",
      "source": [
        "**Make Password Protected RAR File:**"
      ],
      "metadata": {
        "id": "_R0MdcWW6sDJ"
      }
    },
    {
      "cell_type": "markdown",
      "source": [
        "**Replace \"<font color=\"yellow\">OUTPUT FILE NAME</font>\" with the name you want to give file after getting Packed into .RAR and Replace \"<font color=\"yellow\">FILE OR FOLDER NAME</font>\" with the name of file (with format)/folder which needs to be converted! Then run the Code and provide Password in the INPUT FIELD.**"
      ],
      "metadata": {
        "id": "raPYiMgzEpxE"
      }
    },
    {
      "cell_type": "markdown",
      "source": [
        "**<font color=\"red\">After Running the Code! Enter<font color=\"yellow\"> Password</font> to set it with the File!</font>**"
      ],
      "metadata": {
        "id": "K6ktNaCYb0qt"
      }
    },
    {
      "cell_type": "code",
      "source": [
        "!rar a -p \"/gdrive/path/OUTPUT FILE NAME\" \"/gdrive/My Drive/FILE OR FOLDER NAME\""
      ],
      "metadata": {
        "id": "9f7yVzDY6kzm"
      },
      "execution_count": null,
      "outputs": []
    },
    {
      "cell_type": "markdown",
      "source": [
        "**Make Normal RAR File:**"
      ],
      "metadata": {
        "id": "QepQbNuh7Ja8"
      }
    },
    {
      "cell_type": "markdown",
      "source": [
        "**Replace \"<font color=\"yellow\">OUTPUT FILE NAME</font>\" with the name you want to give file after getting Packed into .RAR and Replace \"<font color=\"yellow\">FILE OR FOLDER NAME</font>\" with the name of file(with format)/Folder which needs to be converted!**"
      ],
      "metadata": {
        "id": "WNLX-L76E-Dz"
      }
    },
    {
      "cell_type": "code",
      "metadata": {
        "cellView": "both",
        "id": "WtbqIDwIVaYF"
      },
      "source": [
        "!rar a \"/gdrive/My Drive/OUTPUT FILE NAME\" \"/gdrive/My Drive/FILE OR FOLDER NAME\""
      ],
      "execution_count": null,
      "outputs": []
    },
    {
      "cell_type": "markdown",
      "metadata": {
        "id": "Dm58cAVSAFbr"
      },
      "source": [
        "##**Tar Files/Folders**"
      ]
    },
    {
      "cell_type": "markdown",
      "source": [
        "**Create Tar File:**"
      ],
      "metadata": {
        "id": "DSb89Gt3751b"
      }
    },
    {
      "cell_type": "markdown",
      "source": [
        "**Replace \"<font color=\"yellow\">OUTPUT FILE NAME</font>\" with the name you want to give file after getting Packed into .Tar and Replace \"<font color=\"yellow\">FILE OR FOLDER NAME</font>\" with the name of file(with format)/Folder which needs to be converted!**"
      ],
      "metadata": {
        "id": "xZeDFPvgG49h"
      }
    },
    {
      "cell_type": "code",
      "metadata": {
        "cellView": "both",
        "id": "EjAf_hxSAFbt"
      },
      "source": [
        "!tar -cvf \"/gdrive/My Drive/OUTPUT FILE NAME.tar\" \"/gdrive/My Drive/FILE OR FOLDER NAME\""
      ],
      "execution_count": null,
      "outputs": []
    },
    {
      "cell_type": "markdown",
      "source": [
        "**Create Tar.gz File:**"
      ],
      "metadata": {
        "id": "Q2cUpxVL8JXo"
      }
    },
    {
      "cell_type": "markdown",
      "source": [
        "**Replace \"<font color=\"yellow\">OUTPUT FILE NAME</font>\" with the name you want to give file after getting Packed into .Tar.gz and Replace \"<font color=\"yellow\">\"FILE OR FOLDER NAME</font>\" with the name of file(with format)/Folder which needs to be converted!**"
      ],
      "metadata": {
        "id": "3sGdr-gxHBE9"
      }
    },
    {
      "cell_type": "code",
      "metadata": {
        "id": "0n-O8xGADZ2o"
      },
      "source": [
        "!tar -czvf \"/gdrive/My Drive/OUTPUT FILE NAME.tar.gz\" \"/gdrive/My Drive/FILE OR FOLDER NAME\""
      ],
      "execution_count": null,
      "outputs": []
    },
    {
      "cell_type": "markdown",
      "source": [
        "**Create Tar.bz2 File:**"
      ],
      "metadata": {
        "id": "vhaUV9at8P1I"
      }
    },
    {
      "cell_type": "markdown",
      "source": [
        "**Replace \"<font color=\"yellow\">OUTPUT FILE NAME</font>\" with the name you want to give file after getting Packed into .Tar.bz2 and Replace \"<font color=\"yellow\">FILE OR FOLDER NAME</font>\" with the name of file(with format)/Folder which needs to be converted!**"
      ],
      "metadata": {
        "id": "VFlP0KHDHGKr"
      }
    },
    {
      "cell_type": "code",
      "metadata": {
        "id": "qjdZ4cTbD8qx"
      },
      "source": [
        "!tar -cjvf \"/gdrive/My Drive/OUTPUT FILE NAME.tar.bz2\" \"/gdrive/My Drive/FILE OR FOLDER NAME\""
      ],
      "execution_count": null,
      "outputs": []
    },
    {
      "cell_type": "markdown",
      "source": [
        "#**Unzip/Unrar/Untar Files: Shared Drive to Shared Drive**"
      ],
      "metadata": {
        "id": "GyF2-1zmHeNd"
      }
    },
    {
      "cell_type": "markdown",
      "source": [
        "**You need to Enter exact correct name of Shared Drive! Run the following code to see the name of all Shared Drive and copy them without (' ').**"
      ],
      "metadata": {
        "id": "uymdgM1qJn9S"
      }
    },
    {
      "cell_type": "code",
      "source": [
        "#@markdown <br><center><img src='https://upload.wikimedia.org/wikipedia/commons/thumb/d/da/Google_Drive_logo.png/600px-Google_Drive_logo.png' height=\"50\" alt=\"Gdrive-logo\"/></center>\n",
        "#@markdown <center><h3>Show Name of Shared Drives</h3></center><br>\n",
        "!ls '/gdrive/Shared drives/'"
      ],
      "metadata": {
        "cellView": "form",
        "id": "rgrC_zQNKRfF"
      },
      "execution_count": null,
      "outputs": []
    },
    {
      "cell_type": "markdown",
      "source": [
        "##**Unzip Files**: "
      ],
      "metadata": {
        "id": "jtVdphMPISjt"
      }
    },
    {
      "cell_type": "markdown",
      "source": [
        "**Replace \"<font color=\"yellow\">SHARED DRIVE NAME1</font>\" from the Name of Shared Drive from which the file needs to be Unzipped and Replace \"<font color=\"yellow\">FILE NAME</font>\" with name of File which needs to be Unzipped. Replace \"<font color=\"yellow\">SHARED DRIVE NAME2</font>\" with the Name of Shared Drive in to which Extracted file needs to be send!**"
      ],
      "metadata": {
        "id": "ulmd1oXOIbuO"
      }
    },
    {
      "cell_type": "markdown",
      "source": [
        "**<font color=\"green\">You can also use Same Shared Drive name at place of \"<font color=\"yellow\">SHARED DRIVE NAME1</font>\" and \"<font color=\"yellow\">SHARED DRIVE NAME2</font>\"**"
      ],
      "metadata": {
        "id": "xEZf-2t8JPUm"
      }
    },
    {
      "cell_type": "code",
      "source": [
        "!unzip \"/gdrive/Shared drives/SHARED DRIVE NAME1/FILE NAME.zip\" -d \"/gdrive/Shared drives/SHARED DRIVE NAME2/\""
      ],
      "metadata": {
        "id": "1bZglbRIH4Ew"
      },
      "execution_count": null,
      "outputs": []
    },
    {
      "cell_type": "markdown",
      "source": [
        "##**Unrar Files**"
      ],
      "metadata": {
        "id": "YOzG8e6eKuVl"
      }
    },
    {
      "cell_type": "markdown",
      "source": [
        "**Unrar Normal File:**"
      ],
      "metadata": {
        "id": "4bEqJyzmK6M4"
      }
    },
    {
      "cell_type": "markdown",
      "source": [
        "**Replace \"<font color=\"yellow\">SHARED DRIVE NAME1</font>\" from the Name of Shared Drive from which the file needs to be UnRaR and Replace \"<font color=\"yellow\">FILE NAME</font>\" with name of File which needs to be Unzipped. Replace \"<font color=\"yellow\">SHARED DRIVE NAME2</font>\" with the Name of Shared Drive in to which Extracted file needs to be send!**"
      ],
      "metadata": {
        "id": "YnO50ySvK7gb"
      }
    },
    {
      "cell_type": "code",
      "source": [
        "!unrar x \"/gdrive/Shared drives/SHARED DRIVE NAME1/FILE NAME.rar\" \"/gdrive/Shared drives/SHARED DRIVE NAME2/\""
      ],
      "metadata": {
        "id": "NEB4H-UrLFq6"
      },
      "execution_count": null,
      "outputs": []
    },
    {
      "cell_type": "markdown",
      "source": [
        "**Unrar Password Protected File:**"
      ],
      "metadata": {
        "id": "rFImxQQzL_n2"
      }
    },
    {
      "cell_type": "markdown",
      "source": [
        "**Replace \"<font color=\"yellow\">SHARED DRIVE NAME1</font>\" from the Name of Shared Drive from which the file needs to be UnRaR and Replace \"<font color=\"yellow\">FILE NAME</font>\" with name of File which needs to be Unzipped. Replace \"<font color=\"yellow\">SHARED DRIVE NAME2</font>\" with the Name of Shared Drive in to which Extracted file needs to be send!**"
      ],
      "metadata": {
        "id": "_vj_ULeSMHVR"
      }
    },
    {
      "cell_type": "markdown",
      "source": [
        "**<font color=\"red\">After Running the Code! Enter Password to UnRaR</font>**"
      ],
      "metadata": {
        "id": "UtBWqZS1LqBH"
      }
    },
    {
      "cell_type": "code",
      "source": [
        "!unrar x -Y \"/gdrive/Shared drives/SHARED DRIVE NAME1/FILE NAME.rar\" \"/gdrive/Shared drives/SHARED DRIVE NAME2/\""
      ],
      "metadata": {
        "id": "gMwmg9cdMa9y"
      },
      "execution_count": null,
      "outputs": []
    },
    {
      "cell_type": "markdown",
      "source": [
        "##**Untar Files**"
      ],
      "metadata": {
        "id": "QKoy6g34M-ev"
      }
    },
    {
      "cell_type": "markdown",
      "source": [
        "**Extract Tar File:**"
      ],
      "metadata": {
        "id": "BZQ3t2LWNQn9"
      }
    },
    {
      "cell_type": "markdown",
      "source": [
        "**Replace \"<font color=\"yellow\">SHARED DRIVE NAME1</font>\" from the Name of Shared Drive from which the file needs to be UnTar and Replace \"<font color=\"yellow\">FILE NAME</font>\" with name of File which needs to be Unzipped. Replace \"<font color=\"yellow\">SHARED DRIVE NAME2</font>\" with the Name of Shared Drive in to which Extracted file needs to be send!**"
      ],
      "metadata": {
        "id": "kuJyPafONVh6"
      }
    },
    {
      "cell_type": "code",
      "source": [
        "!tar -xvf \"/gdrive/Shared drives/SHARED DRIVE NAME1/FILE NAME.tar\" -C \"/gdrive/Shared drives/SHARED DRIVE NAME2/\""
      ],
      "metadata": {
        "id": "HZwHG-uONd1f"
      },
      "execution_count": null,
      "outputs": []
    },
    {
      "cell_type": "markdown",
      "source": [
        "**Extract Tar.gz File:**"
      ],
      "metadata": {
        "id": "Vo87G7pYOdKX"
      }
    },
    {
      "cell_type": "markdown",
      "source": [
        "**Replace \"<font color=\"yellow\">SHARED DRIVE NAME1</font>\" from the Name of Shared Drive from which the file needs to be UnTar.gz and Replace \"<font color=\"yellow\">FILE NAME</font>\" with name of File which needs to be UnTar.gz . Replace \"<font color=\"yellow\">SHARED DRIVE NAME2</font>\" with the Name of Shared Drive in to which Extracted file needs to be send!**"
      ],
      "metadata": {
        "id": "UqtuxHZnO8TJ"
      }
    },
    {
      "cell_type": "code",
      "source": [
        "!tar -xzvf \"/gdrive/Shared drives/SHARED DRIVE NAME1/FILE NAME.tar.gz\" -C \"/gdrive/Shared drives/SHARED DRIVE NAME2/\""
      ],
      "metadata": {
        "id": "-Vp983uhO5fr"
      },
      "execution_count": null,
      "outputs": []
    },
    {
      "cell_type": "markdown",
      "source": [
        "**Extract Tar.bz2 File:**"
      ],
      "metadata": {
        "id": "H786eh-TPt12"
      }
    },
    {
      "cell_type": "markdown",
      "source": [
        "**Replace \"SHARED DRIVE NAME1\" from the Name of Shared Drive from which the file needs to be UnTar.bz2 and Replace \"FILE NAME\" with name of File which needs to be UnTar.bz2 . Replace \"<font color=\"yellow\">SHARED DRIVE NAME2</font>\" with the Name of Shared Drive in to which Extracted file needs to be send!**"
      ],
      "metadata": {
        "id": "5m9QfbK5Pvwh"
      }
    },
    {
      "cell_type": "code",
      "source": [
        "!tar -xjvf \"/gdrive/Shared drives/SHARED DRIVE NAME1/FILE NAME.tar.bz2\" -C \"/gdrive/Shared drives/SHARED DRIVE NAME2/\" "
      ],
      "metadata": {
        "id": "aMKKPTi7Qcd0"
      },
      "execution_count": null,
      "outputs": []
    },
    {
      "cell_type": "markdown",
      "source": [
        "#**Zip/Rar/Tar Files/Folders: Shared Drive to Shared Drive**"
      ],
      "metadata": {
        "id": "Oj3s1UhKRdXA"
      }
    },
    {
      "cell_type": "markdown",
      "source": [
        "**You need to Enter exact correct name of Shared Drive! Run the following code to see the name of all Shared Drive and copy them without (' ').**"
      ],
      "metadata": {
        "id": "_VOmA_bO1vhP"
      }
    },
    {
      "cell_type": "code",
      "source": [
        "#@markdown <br><center><img src='https://upload.wikimedia.org/wikipedia/commons/thumb/d/da/Google_Drive_logo.png/600px-Google_Drive_logo.png' height=\"50\" alt=\"Gdrive-logo\"/></center>\n",
        "#@markdown <center><h3>Show Name of Shared Drives</h3></center><br>\n",
        "!ls '/gdrive/Shared drives/'"
      ],
      "metadata": {
        "cellView": "form",
        "id": "KC8fIF1D1xsp"
      },
      "execution_count": null,
      "outputs": []
    },
    {
      "cell_type": "markdown",
      "source": [
        "##**Zip Files/Folders**"
      ],
      "metadata": {
        "id": "4CY7_WubT0W8"
      }
    },
    {
      "cell_type": "markdown",
      "source": [
        "**Replace \"<font color=\"yellow\">SHARED DRIVE NAME1</font>\" from the Name of Shared Drive from which the file needs to be Zipped and Replace \"<font color=\"yellow\">SHARED DRIVE NAME2</font>\" in which you want Final zipped file to be send.Replace \"<font color=\"yellow\">OUTPUT FILE NAME</font>\"  with the name which you want of Final Zipped File. Replace \"<font color=\"yellow\">FILE OR FOLDER NAME</font>\" with name of File(with format)/Folder which needs to be zipped.**"
      ],
      "metadata": {
        "id": "W91D36S7T5VR"
      }
    },
    {
      "cell_type": "code",
      "source": [
        "!zip \"/gdrive/Shared drives/SHARED DRIVE NAME2/OUTPUT FILE NAME\" \"/gdrive/Shared drives/SHARED DRIVE NAME1/FILE OR FOLDER NAME\""
      ],
      "metadata": {
        "id": "R_DS_A9XT5x1"
      },
      "execution_count": null,
      "outputs": []
    },
    {
      "cell_type": "markdown",
      "source": [
        "##**Rar Files/Folders:**"
      ],
      "metadata": {
        "id": "a0djT9fyc9ba"
      }
    },
    {
      "cell_type": "markdown",
      "source": [
        "**To Pack Files into RAR First download required Files by Running below code**"
      ],
      "metadata": {
        "id": "FzcEpaDNdDxu"
      }
    },
    {
      "cell_type": "code",
      "source": [
        "#@markdown <br><center><img src='https://github.com/TheCaduceus/Torrent-to-GoogleDrive/blob/main/Img/80.png?raw=true' height=\"50\">\n",
        "#@markdown <center><h3>Download Required Files for RAR</h3></center>\n",
        "\n",
        "!apt-get install rar"
      ],
      "metadata": {
        "id": "iQKyMACrdKGP",
        "cellView": "form"
      },
      "execution_count": null,
      "outputs": []
    },
    {
      "cell_type": "markdown",
      "source": [
        "**Make Password Protected RAR File:**"
      ],
      "metadata": {
        "id": "dk3GI5j3dRu2"
      }
    },
    {
      "cell_type": "markdown",
      "source": [
        "**Replace \"<font color=\"yellow\">SHARED DRIVE NAME1</font>\" from the Name of Shared Drive from which the file needs to be RAR and Replace \"<font color=\"yellow\">SHARED DRIVE NAME2</font>\" in which you want Final RARED file to be send.Replace \"<font color=\"yellow\">OUTPUT FILE NAME</font>\"  with the name which you want of Final RAR File. Replace \"<font color=\"yellow\">FILE OR FOLDER NAME</font>\" with name of File(with format)/Folder which needs to be RARED.**"
      ],
      "metadata": {
        "id": "AexIsgatdY7z"
      }
    },
    {
      "cell_type": "markdown",
      "source": [
        "**<font color=\"red\">After Running the Code! Enter<font color=\"yellow\"> Password</font> to set it with the File!</font>**"
      ],
      "metadata": {
        "id": "FjK7IcpsghSX"
      }
    },
    {
      "cell_type": "code",
      "source": [
        "!rar a -p \"/gdrive/Shared drives/SHARED DRIVE NAME2/OUTPUT FILE NAME\" \"/gdrive/Shared drives/SHARED DRIVE NAME1/FILE OR FOLDER NAME\""
      ],
      "metadata": {
        "id": "dGhIHUapdeXB"
      },
      "execution_count": null,
      "outputs": []
    },
    {
      "cell_type": "markdown",
      "source": [
        "**Make Normal RAR File:**"
      ],
      "metadata": {
        "id": "Uis6cAxCe6aK"
      }
    },
    {
      "cell_type": "markdown",
      "source": [
        "**Replace \"<font color=\"yellow\">SHARED DRIVE NAME1</font>\" from the Name of Shared Drive from which the file needs to be RAR and Replace \"<font color=\"yellow\">SHARED DRIVE NAME2</font>\" in which you want Final RARED file to be send.Replace \"<font color=\"yellow\">OUTPUT FILE NAME</font>\"  with the name which you want of Final RAR File. Replace \"<font color=\"yellow\">FILE OR FOLDER NAME</font>\" with name of File(with format)/Folder which needs to be RARED.**"
      ],
      "metadata": {
        "id": "dy4tcs2dfAHJ"
      }
    },
    {
      "cell_type": "code",
      "source": [
        "!rar a \"/gdrive/Shared drives/SHARED DRIVE NAME2/OUTPUT FILE NAME\" \"/gdrive/Shared drives/SHARED DRIVE NAME1/FILE OR FOLDER NAME\""
      ],
      "metadata": {
        "id": "9YZU8tlffLYj"
      },
      "execution_count": null,
      "outputs": []
    },
    {
      "cell_type": "markdown",
      "source": [
        "##**Tar Files/Folders**"
      ],
      "metadata": {
        "id": "qWHUEFBcg7pl"
      }
    },
    {
      "cell_type": "markdown",
      "source": [
        "**Create Tar File:**"
      ],
      "metadata": {
        "id": "S7boGx8YhF8s"
      }
    },
    {
      "cell_type": "markdown",
      "source": [
        "**Replace \"<font color=\"yellow\">SHARED DRIVE NAME1</font>\" from the Name of Shared Drive from which the file needs to be TAR and Replace \"<font color=\"yellow\">SHARED DRIVE NAME2</font>\" in which you want Final TARED file to be send.Replace \"<font color=\"yellow\">OUTPUT FILE NAME</font>\"  with the name which you want of Final TAR File. Replace \"<font color=\"yellow\">FILE OR FOLDER NAME</font>\" with name of File(with format)/Folder which needs to be TARED.**"
      ],
      "metadata": {
        "id": "nPhjZSMFhRJQ"
      }
    },
    {
      "cell_type": "code",
      "source": [
        "!tar -cvf \"/gdrive/Shared drives/SHARED DRIVE NAME2/OUTPUT FILE NAME.tar\" \"/gdrive/Shared drives/SHARED DRIVE NAME1/FILE OR FOLDER NAME\""
      ],
      "metadata": {
        "id": "WQQ-QUlAhQet"
      },
      "execution_count": null,
      "outputs": []
    },
    {
      "cell_type": "markdown",
      "source": [
        "**Create Tar.gz File:**"
      ],
      "metadata": {
        "id": "pSozm2jiiBHg"
      }
    },
    {
      "cell_type": "markdown",
      "source": [
        "**Replace \"<font color=\"yellow\">SHARED DRIVE NAME1</font>\" from the Name of Shared Drive from which the file needs to be TAR.gz and Replace \"<font color=\"yellow\">SHARED DRIVE NAME2</font>\" in which you want Final TAR.gz file to be send.Replace \"<font color=\"yellow\">OUTPUT FILE NAME</font>\"  with the name which you want of Final TAR.gz File. Replace \"<font color=\"yellow\">FILE OR FOLDER NAME</font>\" with name of File(with format)/Folder which needs to be TAR.gz.**"
      ],
      "metadata": {
        "id": "3YFMdP5NiHcm"
      }
    },
    {
      "cell_type": "code",
      "source": [
        "!tar -czvf \"/gdrive/Shared drives/SHARED DRIVE NAME2/OUTPUT FILE NAME.tar.gz\" \"/gdrive/Shared drives/SHARED DRIVE NAME1/FILE OR FOLDER NAME\""
      ],
      "metadata": {
        "id": "ejCQ8hcbieXn"
      },
      "execution_count": null,
      "outputs": []
    },
    {
      "cell_type": "markdown",
      "source": [
        "**Create Tar.bz2 File:**"
      ],
      "metadata": {
        "id": "_TYQX6ivi49f"
      }
    },
    {
      "cell_type": "markdown",
      "source": [
        "**Replace \"<font color=\"yellow\">SHARED DRIVE NAME1</font>\" from the Name of Shared Drive from which the file needs to be TAR.bz2 and Replace \"<font color=\"yellow\">SHARED DRIVE NAME2</font>\" in which you want Final TAR.bz2 file to be send.Replace \"<font color=\"yellow\">OUTPUT FILE NAME</font>\"  with the name which you want of Final TAR.bz2 File. Replace \"<font color=\"yellow\">FILE OR FOLDER NAME</font>\" with name of File(with format)/Folder which needs to be TAR.bz2.**"
      ],
      "metadata": {
        "id": "4DnIcDfnjAKF"
      }
    },
    {
      "cell_type": "code",
      "source": [
        "!tar -cjvf \"/gdrive/Shared drives/SHARED DRIVE NAME2/OUTPUT FILE NAME.tar.bz2\" \"/gdrive/Shared drives/SHARED DRIVE NAME1/FILE OR FOLDER NAME\""
      ],
      "metadata": {
        "id": "WfWpFSzVjApT"
      },
      "execution_count": null,
      "outputs": []
    },
    {
      "cell_type": "markdown",
      "source": [
        "#**Unzip/Unrar/Untar Files: My Drive to Shared Drive**"
      ],
      "metadata": {
        "id": "hXcZ18MekbG9"
      }
    },
    {
      "cell_type": "markdown",
      "source": [
        "**You need to Enter exact correct name of Shared Drive! Run the following code to see the name of all Shared Drive and copy them without (' ').**"
      ],
      "metadata": {
        "id": "a-MjOS0V1-TE"
      }
    },
    {
      "cell_type": "code",
      "source": [
        "#@markdown <br><center><img src='https://upload.wikimedia.org/wikipedia/commons/thumb/d/da/Google_Drive_logo.png/600px-Google_Drive_logo.png' height=\"50\" alt=\"Gdrive-logo\"/></center>\n",
        "#@markdown <center><h3>Show Name of Shared Drives</h3></center><br>\n",
        "!ls '/gdrive/Shared drives/'"
      ],
      "metadata": {
        "cellView": "form",
        "id": "ramusCee2DsY"
      },
      "execution_count": null,
      "outputs": []
    },
    {
      "cell_type": "markdown",
      "source": [
        "##**Unzip Files**: "
      ],
      "metadata": {
        "id": "OjnWoNgYkyzR"
      }
    },
    {
      "cell_type": "markdown",
      "source": [
        "**Replace \"<font color=\"yellow\">FILE NAME</font>\" with name of File which needs to be Unzipped. Replace \"<font color=\"yellow\">SHARED DRIVE NAME2</font>\" with the Name of Shared Drive in to which Extracted file needs to be send!**"
      ],
      "metadata": {
        "id": "XXHhXVFllkM3"
      }
    },
    {
      "cell_type": "code",
      "source": [
        "!unzip \"/gdrive/My Drive/FILE NAME.zip\" -d \"/gdrive/Shared drives/SHARED DRIVE NAME2/\""
      ],
      "metadata": {
        "id": "tOqGTBBik4oI"
      },
      "execution_count": null,
      "outputs": []
    },
    {
      "cell_type": "markdown",
      "source": [
        "##**Unrar Files**"
      ],
      "metadata": {
        "id": "pp2NeuaymZQz"
      }
    },
    {
      "cell_type": "markdown",
      "source": [
        "**Unrar Normal File:**"
      ],
      "metadata": {
        "id": "w5VrgxREmmFb"
      }
    },
    {
      "cell_type": "markdown",
      "source": [
        "**Replace \"<font color=\"yellow\">FILE NAME</font>\" with name of File which needs to be UnRAR. Replace \"<font color=\"yellow\">SHARED DRIVE NAME2</font>\" with the Name of Shared Drive in to which Extracted file needs to be send!**"
      ],
      "metadata": {
        "id": "dHSX6LcFmsfO"
      }
    },
    {
      "cell_type": "code",
      "source": [
        "!unrar x \"/gdrive/My Drive/FILE NAME.rar\" \"/gdrive/Shared drives/SHARED DRIVE NAME2/\""
      ],
      "metadata": {
        "id": "8pvSvT9rotdr"
      },
      "execution_count": null,
      "outputs": []
    },
    {
      "cell_type": "markdown",
      "source": [
        "**Unrar Password Protected File:**"
      ],
      "metadata": {
        "id": "JtCHRWDTpoNT"
      }
    },
    {
      "cell_type": "markdown",
      "source": [
        "**Replace \"<font color=\"yellow\">FILE NAME</font>\" with name of File which needs to be UnRAR. Replace \"<font color=\"yellow\">SHARED DRIVE NAME2</font>\" with the Name of Shared Drive in to which Extracted file needs to be send!**"
      ],
      "metadata": {
        "id": "FA28M-QVpwF6"
      }
    },
    {
      "cell_type": "markdown",
      "source": [
        "**<font color=\"red\">After Running the Code! Enter Password to UnRaR</font>**"
      ],
      "metadata": {
        "id": "fhAKcXKTuiBq"
      }
    },
    {
      "cell_type": "code",
      "source": [
        "!unrar x \"/gdrive/My Drive/FILE NAME.rar\" \"/gdrive/Shared drives/SHARED DRIVE NAME2/\""
      ],
      "metadata": {
        "id": "gGSB1z6juTaC"
      },
      "execution_count": null,
      "outputs": []
    },
    {
      "cell_type": "markdown",
      "source": [
        "##**Untar Files**"
      ],
      "metadata": {
        "id": "hqkfPzG-u-mV"
      }
    },
    {
      "cell_type": "markdown",
      "source": [
        "**Extract Tar File:**"
      ],
      "metadata": {
        "id": "nWrsapBCvj0I"
      }
    },
    {
      "cell_type": "markdown",
      "source": [
        "**Replace \"<font color=\"yellow\">FILE NAME</font>\" with name of File which needs to be UnTar. Replace \"<font color=\"yellow\">SHARED DRIVE NAME2</font>\" with the Name of Shared Drive in to which Extracted file needs to be send!**"
      ],
      "metadata": {
        "id": "4cY-K8EyvrhX"
      }
    },
    {
      "cell_type": "code",
      "source": [
        "!tar -xvf \"/gdrive/My Drive/FILE NAME.tar\" -C \"/gdrive/Shared drives/SHARED DRIVE NAME2/\""
      ],
      "metadata": {
        "id": "Lha3_GVExaRO"
      },
      "execution_count": null,
      "outputs": []
    },
    {
      "cell_type": "markdown",
      "source": [
        "**Extract Tar.gz File:**"
      ],
      "metadata": {
        "id": "vfWclmn0yLDA"
      }
    },
    {
      "cell_type": "markdown",
      "source": [
        "**Replace \"<font color=\"yellow\">FILE NAME</font>\" with name of File which needs to be UnTar.gz. Replace \"<font color=\"yellow\">SHARED DRIVE NAME2</font>\" with the Name of Shared Drive in to which Extracted file needs to be send!**"
      ],
      "metadata": {
        "id": "uli_NODxyVSs"
      }
    },
    {
      "cell_type": "code",
      "source": [
        "!tar -xzvf \"/gdrive/My Drive/FILE NAME.tar.gz\" -C \"/gdrive/Shared drives/SHARED DRIVE NAME2/\""
      ],
      "metadata": {
        "id": "3ZMnw0fmySTp"
      },
      "execution_count": null,
      "outputs": []
    },
    {
      "cell_type": "markdown",
      "source": [
        "**Extract Tar.bz2 File:**"
      ],
      "metadata": {
        "id": "e2bDTJgizCml"
      }
    },
    {
      "cell_type": "markdown",
      "source": [
        "**Replace \"<font color=\"yellow\">FILE NAME</font>\" with name of File which needs to be UnTar. Replace \"<font color=\"yellow\">SHARED DRIVE NAME2</font>\" with the Name of Shared Drive in to which Extracted file needs to be send!**"
      ],
      "metadata": {
        "id": "oVAf1EBDzUUQ"
      }
    },
    {
      "cell_type": "code",
      "source": [
        "!tar -xjvf \"/gdrive/My Drive/FILE NAME.tar.bz2\" -C \"/gdrive/Shared drives/SHARED DRIVE NAME2/\" "
      ],
      "metadata": {
        "id": "6CUAIJgBzJvp"
      },
      "execution_count": null,
      "outputs": []
    },
    {
      "cell_type": "markdown",
      "source": [
        "#**Zip/Rar/Tar Files/Folders: My Drive to Shared Drive**"
      ],
      "metadata": {
        "id": "OxIRd2KB1DlJ"
      }
    },
    {
      "cell_type": "markdown",
      "source": [
        "**You need to Enter exact correct name of Shared Drive! Run the following code to see the name of all Shared Drive and copy them without (' ').**"
      ],
      "metadata": {
        "id": "SqVLwdQZ2aeI"
      }
    },
    {
      "cell_type": "code",
      "source": [
        "#@markdown <br><center><img src='https://upload.wikimedia.org/wikipedia/commons/thumb/d/da/Google_Drive_logo.png/600px-Google_Drive_logo.png' height=\"50\" alt=\"Gdrive-logo\"/></center>\n",
        "#@markdown <center><h3>Show Name of Shared Drives</h3></center><br>\n",
        "!ls '/gdrive/Shared drives/'"
      ],
      "metadata": {
        "cellView": "form",
        "id": "sQxmUEUp2s6U"
      },
      "execution_count": null,
      "outputs": []
    },
    {
      "cell_type": "markdown",
      "source": [
        "##**Zip Files/Folders**"
      ],
      "metadata": {
        "id": "w2zswipi21Mc"
      }
    },
    {
      "cell_type": "markdown",
      "source": [
        "**Replace \"<font color=\"yellow\">SHARED DRIVE NAME2</font>\" in which you want Final zipped file to be send.Replace \"<font color=\"yellow\">OUTPUT FILE NAME</font>\"  with the name which you want of Final Zipped File. Replace \"<font color=\"yellow\">FILE OR FOLDER NAME</font>\" with name of File(with format)/Folder which needs to be zipped.**"
      ],
      "metadata": {
        "id": "jVatB-Vg4Gv3"
      }
    },
    {
      "cell_type": "code",
      "source": [
        "!zip \"/gdrive/Shared drives/SHARED DRIVE NAME2/OUTPUT FILE NAME\" \"/gdrive/My Drive/FILE OR FOLDER NAME\""
      ],
      "metadata": {
        "id": "5seb_78Y2_fQ"
      },
      "execution_count": null,
      "outputs": []
    },
    {
      "cell_type": "markdown",
      "source": [
        "##**Rar Files/Folders:**"
      ],
      "metadata": {
        "id": "fclcmjFk_vHx"
      }
    },
    {
      "cell_type": "markdown",
      "source": [
        "**To Pack Files into RAR First download required Files by Running below code**"
      ],
      "metadata": {
        "id": "YhOmkjYDALd_"
      }
    },
    {
      "cell_type": "code",
      "source": [
        "#@markdown <br><center><img src='https://github.com/TheCaduceus/Torrent-to-GoogleDrive/blob/main/Img/80.png?raw=true' height=\"50\">\n",
        "#@markdown <center><h3>Download Required Files for RAR</h3></center>\n",
        "\n",
        "!apt-get install rar"
      ],
      "metadata": {
        "cellView": "form",
        "id": "ugtl9gUBAHJS"
      },
      "execution_count": null,
      "outputs": []
    },
    {
      "cell_type": "markdown",
      "source": [
        "**Make Password Protected RAR File:**"
      ],
      "metadata": {
        "id": "zhRm1fr0AWD1"
      }
    },
    {
      "cell_type": "markdown",
      "source": [
        "**Replace \"<font color=\"yellow\">SHARED DRIVE NAME2</font>\" in which you want Final RAR file to be send.Replace \"<font color=\"yellow\">OUTPUT FILE NAME</font>\"  with the name which you want of Final RARED File. Replace \"<font color=\"yellow\">FILE OR FOLDER NAME</font>\" with name of File(with format)/Folder which needs to be RARED.**"
      ],
      "metadata": {
        "id": "iMJqOb3YApJc"
      }
    },
    {
      "cell_type": "markdown",
      "source": [
        "**<font color=\"red\">After Running the Code! Enter<font color=\"yellow\"> Password</font> to set it with the File!</font>**"
      ],
      "metadata": {
        "id": "8g21C2FKC0Xa"
      }
    },
    {
      "cell_type": "code",
      "source": [
        "!rar a -p \"/gdrive/Shared drives/SHARED DRIVE NAME2/OUTPUT FILE NAME\" \"/gdrive/My Drive/FILE OR FOLDER NAME\""
      ],
      "metadata": {
        "id": "qxmocP1XAbRA"
      },
      "execution_count": null,
      "outputs": []
    },
    {
      "cell_type": "markdown",
      "source": [
        "**Make Normal RAR File:**"
      ],
      "metadata": {
        "id": "-uvhtQ95B7B4"
      }
    },
    {
      "cell_type": "markdown",
      "source": [
        "**Replace \"<font color=\"yellow\">SHARED DRIVE NAME2</font>\" in which you want Final RAR file to be send.Replace \"<font color=\"yellow\">OUTPUT FILE NAME</font>\"  with the name which you want of Final RARED File. Replace \"<font color=\"yellow\">FILE OR FOLDER NAME</font>\" with name of File(with format)/Folder which needs to be RARED.**"
      ],
      "metadata": {
        "id": "KxFGxnkPClVw"
      }
    },
    {
      "cell_type": "code",
      "source": [
        "!rar a \"/gdrive/Shared drives/SHARED DRIVE NAME2/OUTPUT FILE NAME\" \"/gdrive/My Drive/FILE OR FOLDER NAME\""
      ],
      "metadata": {
        "id": "lhaCr_-nCUdO"
      },
      "execution_count": null,
      "outputs": []
    },
    {
      "cell_type": "markdown",
      "source": [
        "##**Tar Files/Folders**"
      ],
      "metadata": {
        "id": "MZQ2sXiyDuy6"
      }
    },
    {
      "cell_type": "markdown",
      "source": [
        "**Create Tar File:**"
      ],
      "metadata": {
        "id": "ZxkP0SLwD79d"
      }
    },
    {
      "cell_type": "markdown",
      "source": [
        "**Replace \"<font color=\"yellow\">SHARED DRIVE NAME2</font>\" in which you want Final TARED file to be send.Replace \"<font color=\"yellow\">OUTPUT FILE NAME</font>\"  with the name which you want of Final TAR File. Replace \"<font color=\"yellow\">FILE OR FOLDER NAME</font>\" with name of File(with format)/Folder which needs to be TARED.**"
      ],
      "metadata": {
        "id": "euSctj4lEKdR"
      }
    },
    {
      "cell_type": "code",
      "source": [
        "!tar -cvf \"/gdrive/Shared drives/SHARED DRIVE NAME2/OUTPUT FILE NAME.tar\" \"/gdrive/My Drive/FILE OR FOLDER NAME\""
      ],
      "metadata": {
        "id": "14pxWYgWEBNe"
      },
      "execution_count": null,
      "outputs": []
    },
    {
      "cell_type": "markdown",
      "source": [
        "**Create Tar.gz File:**"
      ],
      "metadata": {
        "id": "_nsVHRIgEV5x"
      }
    },
    {
      "cell_type": "markdown",
      "source": [
        "**Replace \"<font color=\"yellow\">SHARED DRIVE NAME2</font>\" in which you want Final TAR.gz file to be send.Replace \"<font color=\"yellow\">OUTPUT FILE NAME</font>\"  with the name which you want of Final TAR.gz File. Replace \"<font color=\"yellow\">FILE OR FOLDER NAME</font>\" with name of File(with format)/Folder which needs to be TAR.gz.**"
      ],
      "metadata": {
        "id": "am8BAtDzEeZg"
      }
    },
    {
      "cell_type": "code",
      "source": [
        "!tar -czvf \"/gdrive/Shared drives/SHARED DRIVE NAME2/OUTPUT FILE NAME.tar.gz\" \"/gdrive/My Drive/FILE OR FOLDER NAME\""
      ],
      "metadata": {
        "id": "6L1zzBi2EaBv"
      },
      "execution_count": null,
      "outputs": []
    },
    {
      "cell_type": "markdown",
      "source": [
        "**Create Tar.bz2 File:**"
      ],
      "metadata": {
        "id": "vACFH3VjExiR"
      }
    },
    {
      "cell_type": "markdown",
      "source": [
        "**Replace \"<font color=\"yellow\">SHARED DRIVE NAME2</font>\" in which you want Final TAR.bz2 file to be send.Replace \"<font color=\"yellow\">OUTPUT FILE NAME</font>\"  with the name which you want of Final TAR.bz2 File. Replace \"<font color=\"yellow\">FILE OR FOLDER NAME</font>\" with name of File(with format)/Folder which needs to be TAR.bz2.**"
      ],
      "metadata": {
        "id": "bc6k7B3eE_R3"
      }
    },
    {
      "cell_type": "code",
      "source": [
        "!tar -cjvf \"/gdrive/Shared drives/SHARED DRIVE NAME2/OUTPUT FILE NAME.tar.bz2\" \"/gdrive/My Drive/FILE OR FOLDER NAME\""
      ],
      "metadata": {
        "id": "NYpfJu9BE2D2"
      },
      "execution_count": null,
      "outputs": []
    },
    {
      "cell_type": "markdown",
      "source": [
        "#**Unzip/Unrar/Untar Files: Shared Drive to My Drive**"
      ],
      "metadata": {
        "id": "TYijN_jnFbEO"
      }
    },
    {
      "cell_type": "markdown",
      "source": [
        "**You need to Enter exact correct name of Shared Drive! Run the following code to see the name of all Shared Drive and copy them without (' ').**"
      ],
      "metadata": {
        "id": "7EpkNkgXJg_h"
      }
    },
    {
      "cell_type": "code",
      "source": [
        "#@markdown <br><center><img src='https://upload.wikimedia.org/wikipedia/commons/thumb/d/da/Google_Drive_logo.png/600px-Google_Drive_logo.png' height=\"50\" alt=\"Gdrive-logo\"/></center>\n",
        "#@markdown <center><h3>Show Name of Shared Drives</h3></center><br>\n",
        "!ls '/gdrive/Shared drives/'"
      ],
      "metadata": {
        "cellView": "form",
        "id": "2IYOT3juJy1g"
      },
      "execution_count": null,
      "outputs": []
    },
    {
      "cell_type": "markdown",
      "source": [
        "##**Unzip Files**: "
      ],
      "metadata": {
        "id": "H8lTrHEIKqOx"
      }
    },
    {
      "cell_type": "markdown",
      "source": [
        "**Replace \"<font color=\"yellow\">FILE NAME</font>\" with name of File which needs to be Unzipped. Replace \"<font color=\"yellow\">SHARED DRIVE NAME1</font>\" with the Name of Shared Drive from which file (To be Extracted) needs to be taken!**"
      ],
      "metadata": {
        "id": "kPgufQCnMFIY"
      }
    },
    {
      "cell_type": "code",
      "source": [
        "!unzip \"/gdrive/Shared drives/SHARED DRIVE NAME1/FILE NAME.zip\" -d \"/gdrive/My Drive/\""
      ],
      "metadata": {
        "id": "MzLskXc8Lljg"
      },
      "execution_count": null,
      "outputs": []
    },
    {
      "cell_type": "markdown",
      "source": [
        "##**Unrar Files**"
      ],
      "metadata": {
        "id": "awaqyx0BMWmP"
      }
    },
    {
      "cell_type": "markdown",
      "source": [
        "**Unrar Normal File:**"
      ],
      "metadata": {
        "id": "ujqKNZJ2MyZF"
      }
    },
    {
      "cell_type": "markdown",
      "source": [
        "**Replace \"<font color=\"yellow\">FILE NAME</font>\" with name of File which needs to be UnRAR. Replace \"<font color=\"yellow\">SHARED DRIVE NAME1</font>\" with the Name of Shared Drive from which file (To be Extracted) needs to be taken!**"
      ],
      "metadata": {
        "id": "mF0_kn4qM5MJ"
      }
    },
    {
      "cell_type": "code",
      "source": [
        "!unrar x \"/gdrive/Shared drives/SHARED DRIVE NAME1/FILE NAME.rar\" \"/gdrive/My Drive/\""
      ],
      "metadata": {
        "id": "k0j7Hgp7Mgmm"
      },
      "execution_count": null,
      "outputs": []
    },
    {
      "cell_type": "markdown",
      "source": [
        "**Unrar Password Protected File:**"
      ],
      "metadata": {
        "id": "elrrDXb2NuZW"
      }
    },
    {
      "cell_type": "markdown",
      "source": [
        "**Replace \"<font color=\"yellow\">FILE NAME</font>\" with name of File which needs to be UnRAR. Replace \"<font color=\"yellow\">SHARED DRIVE NAME1</font>\" with the Name of Shared Drive from which file (To be Extracted) needs to be taken!**"
      ],
      "metadata": {
        "id": "ATLA1KWjN2Dq"
      }
    },
    {
      "cell_type": "markdown",
      "source": [
        "**<font color=\"red\">After Running the Code! Enter Password to UnRaR</font>**"
      ],
      "metadata": {
        "id": "MezTCWFMN8Fm"
      }
    },
    {
      "cell_type": "code",
      "source": [
        "!unrar x \"/gdrive/Shared drives/SHARED DRIVE NAME1/FILE NAME.rar\" \"/gdrive/My Drive/\""
      ],
      "metadata": {
        "id": "MSuyW8EHOBxW"
      },
      "execution_count": null,
      "outputs": []
    },
    {
      "cell_type": "markdown",
      "source": [
        "##**Untar Files**"
      ],
      "metadata": {
        "id": "MmzKwwBYObU6"
      }
    },
    {
      "cell_type": "markdown",
      "source": [
        "**Extract Tar File:**"
      ],
      "metadata": {
        "id": "xO1gWKq0OgOI"
      }
    },
    {
      "cell_type": "markdown",
      "source": [
        "**Replace \"<font color=\"yellow\">FILE NAME</font>\" with name of File which needs to be UnTar. Replace \"<font color=\"yellow\">SHARED DRIVE NAME1</font>\" with the Name of Shared Drive from which file (To be Extracted) needs to be taken!**"
      ],
      "metadata": {
        "id": "H3p_Zuk2O3Yj"
      }
    },
    {
      "cell_type": "code",
      "source": [
        "!tar -xvf \"/gdrive/Shared drives/SHARED DRIVE NAME1/FILE NAME.tar\" -C \"/gdrive/My Drive/\""
      ],
      "metadata": {
        "id": "XPo-PPqdOq2f"
      },
      "execution_count": null,
      "outputs": []
    },
    {
      "cell_type": "markdown",
      "source": [
        "**Extract Tar.gz File:**"
      ],
      "metadata": {
        "id": "wM7Gwz7yHByi"
      }
    },
    {
      "cell_type": "markdown",
      "source": [
        "**Replace \"<font color=\"yellow\">FILE NAME</font>\" with name of File which needs to be UnTar.gz. Replace \"<font color=\"yellow\">SHARED DRIVE NAME1</font>\" with the Name of Shared Drive from which file (To be Extracted) needs to be taken!**"
      ],
      "metadata": {
        "id": "2bVffBAHHbcY"
      }
    },
    {
      "cell_type": "code",
      "source": [
        "!tar -xzvf \"/gdrive/Shared drives/SHARED DRIVE NAME1/FILE NAME.tar.gz\" -C \"/gdrive/My Drive/\""
      ],
      "metadata": {
        "id": "nGSU_4_fHP9l"
      },
      "execution_count": null,
      "outputs": []
    },
    {
      "cell_type": "markdown",
      "source": [
        "**Extract Tar.bz2 File:**"
      ],
      "metadata": {
        "id": "rMtl4GTjI2xA"
      }
    },
    {
      "cell_type": "markdown",
      "source": [
        "**Replace \"<font color=\"yellow\">FILE NAME</font>\" with name of File which needs to be UnTar.bz2. Replace \"<font color=\"yellow\">SHARED DRIVE NAME1</font>\" with the Name of Shared Drive from which file (To be Extracted) needs to be taken!**"
      ],
      "metadata": {
        "id": "8bHg59ReJIhk"
      }
    },
    {
      "cell_type": "code",
      "source": [
        "!tar -xjvf \"/gdrive/Shared drives/SHARED DRIVE NAME1/FILE NAME.tar.bz2\" -C \"/gdrive/My Drive/\" "
      ],
      "metadata": {
        "id": "Ng5P0XYyJAwi"
      },
      "execution_count": null,
      "outputs": []
    },
    {
      "cell_type": "markdown",
      "source": [
        "#**Zip/Rar/Tar Files/Folders: Shared Drive to My Drive**"
      ],
      "metadata": {
        "id": "jxiQShCOKvOR"
      }
    },
    {
      "cell_type": "markdown",
      "source": [
        "**You need to Enter exact correct name of Shared Drive! Run the following code to see the name of all Shared Drive and copy them without (' ').**"
      ],
      "metadata": {
        "id": "sPh539V9lDdg"
      }
    },
    {
      "cell_type": "code",
      "source": [
        "#@markdown <br><center><img src='https://upload.wikimedia.org/wikipedia/commons/thumb/d/da/Google_Drive_logo.png/600px-Google_Drive_logo.png' height=\"50\" alt=\"Gdrive-logo\"/></center>\n",
        "#@markdown <center><h3>Show Name of Shared Drives</h3></center><br>\n",
        "!ls '/gdrive/Shared drives/'"
      ],
      "metadata": {
        "cellView": "form",
        "id": "vsWpTFe6k9AN"
      },
      "execution_count": null,
      "outputs": []
    },
    {
      "cell_type": "markdown",
      "source": [
        "###**Zip Files/Folders**"
      ],
      "metadata": {
        "id": "oTZDZ4tEMnEe"
      }
    },
    {
      "cell_type": "markdown",
      "source": [
        "**Replace \"<font color=\"yellow\">OUTPUT FILE NAME</font>\"  with the name which you want of Final Zipped File.\"<font color=\"yellow\">SHARED DRIVE NAME1</font>\" with the Name of Shared Drive from which file (To be Zipped) needs to be taken! Replace \"FILE OR FOLDER NAME\" with File(with Format)/Folder name which needs to be zipped**"
      ],
      "metadata": {
        "id": "AfZydvWxNuYV"
      }
    },
    {
      "cell_type": "code",
      "source": [
        "!zip \"/gdrive/My Drive/OUTPUT FILE NAME\" \"/gdrive/Shared drives/SHARED DRIVE NAME1/FILE OR FOLDER NAME\""
      ],
      "metadata": {
        "id": "fXzd-YRwMy9E"
      },
      "execution_count": null,
      "outputs": []
    },
    {
      "cell_type": "markdown",
      "source": [
        "###**Rar Files/Folders:**"
      ],
      "metadata": {
        "id": "OZa5hewtQeUt"
      }
    },
    {
      "cell_type": "markdown",
      "source": [
        "**To Pack Files into RAR First download required Files by Running below code**"
      ],
      "metadata": {
        "id": "KJHVjWmLQiP3"
      }
    },
    {
      "cell_type": "code",
      "source": [
        "#@markdown <br><center><img src='https://github.com/TheCaduceus/Torrent-to-GoogleDrive/blob/main/Img/80.png?raw=true' height=\"50\">\n",
        "#@markdown <center><h3>Download Required Files for RAR</h3></center>\n",
        "\n",
        "!apt-get install rar"
      ],
      "metadata": {
        "cellView": "form",
        "id": "7Y1F04HlQmlH"
      },
      "execution_count": null,
      "outputs": []
    },
    {
      "cell_type": "markdown",
      "source": [
        "**Replace \"<font color=\"yellow\">OUTPUT FILE NAME</font>\"  with the name which you want of Final RAR File.\"<font color=\"yellow\">SHARED DRIVE NAME1</font>\" with the Name of Shared Drive from which file (To be RARED) needs to be taken! Replace \"<font color=\"yellow\">FILE OR FOLDER NAME</font>\" with File(with Format)/Folder name which needs to be RARED**"
      ],
      "metadata": {
        "id": "_6DUG3rkRSiw"
      }
    },
    {
      "cell_type": "markdown",
      "source": [
        "**Make Normal RAR File:**"
      ],
      "metadata": {
        "id": "pokqWZFHRxxm"
      }
    },
    {
      "cell_type": "code",
      "source": [
        "!rar a \"/gdrive/My Drive/OUTPUT FILE NAME\" \"/gdrive/Shared drives/SHARED DRIVE NAME1/FILE OR FOLDER NAME\""
      ],
      "metadata": {
        "id": "JGFDfnmhQ5l4"
      },
      "execution_count": null,
      "outputs": []
    },
    {
      "cell_type": "markdown",
      "source": [
        "**Make Password Protected RAR File:**"
      ],
      "metadata": {
        "id": "38FlGnx2R0Pz"
      }
    },
    {
      "cell_type": "markdown",
      "source": [
        "**Replace \"<font color=\"yellow\">OUTPUT FILE NAME</font>\"  with the name which you want of Final RAR File.\"<font color=\"yellow\">SHARED DRIVE NAME1</font>\" with the Name of Shared Drive from which file (To be RARED) needs to be taken! Replace \"<font color=\"yellow\">FILE OR FOLDER NAME</font>\" with File(with Format)/Folder name which needs to be RARED**"
      ],
      "metadata": {
        "id": "yvud-WNlSCUI"
      }
    },
    {
      "cell_type": "markdown",
      "source": [
        "**<font color=\"red\">After Running the Code! Enter<font color=\"yellow\"> Password</font> to set it with the File!</font>**"
      ],
      "metadata": {
        "id": "dkabxjY4SGNp"
      }
    },
    {
      "cell_type": "code",
      "source": [
        "!rar a -p \"/gdrive/My Drive/OUTPUT FILE NAME\" \"/gdrive/Shared drives/SHARED DRIVE NAME1/FILE OR FOLDER NAME\""
      ],
      "metadata": {
        "id": "MaZRxycUSPIJ"
      },
      "execution_count": null,
      "outputs": []
    },
    {
      "cell_type": "markdown",
      "source": [
        "##**Tar Files/Folders**"
      ],
      "metadata": {
        "id": "SQ2jOcFgSwnQ"
      }
    },
    {
      "cell_type": "markdown",
      "source": [
        "**Create Tar File:**"
      ],
      "metadata": {
        "id": "8yD7G30XS0wO"
      }
    },
    {
      "cell_type": "markdown",
      "source": [
        "**Replace \"<font color=\"yellow\">OUTPUT FILE NAME</font>\"  with the name which you want of Final TAR File.\"<font color=\"yellow\">SHARED DRIVE NAME1</font>\" with the Name of Shared Drive from which file (To be TAR) needs to be taken! Replace \"<font color=\"yellow\">FILE OR FOLDER NAME</font>\" with File(with Format)/Folder name which needs to be TAR**"
      ],
      "metadata": {
        "id": "iVvgX1SnS-o-"
      }
    },
    {
      "cell_type": "code",
      "source": [
        "!tar -cvf \"/gdrive/My Drive/OUTPUT FILE NAME.tar\" \"/gdrive/Shared drives/SHARED DRIVE NAME1/FILE OR FOLDER NAME\""
      ],
      "metadata": {
        "id": "ZLdNd8-YU4Ig"
      },
      "execution_count": null,
      "outputs": []
    },
    {
      "cell_type": "markdown",
      "source": [
        "**Create Tar.gz File:**"
      ],
      "metadata": {
        "id": "YRnVaibAVFoW"
      }
    },
    {
      "cell_type": "markdown",
      "source": [
        "**Replace \"<font color=\"yellow\">OUTPUT FILE NAME</font>\"  with the name which you want of Final TAR.gz File.\"<font color=\"yellow\">SHARED DRIVE NAME1</font>\" with the Name of Shared Drive from which file (To be TAR.gz) needs to be taken! Replace \"<font color=\"yellow\">FILE OR FOLDER NAME</font>\" with File(with Format)/Folder name which needs to be TAR.gz**"
      ],
      "metadata": {
        "id": "yhgA9bIdVVyI"
      }
    },
    {
      "cell_type": "code",
      "source": [
        "!tar -czvf \"/gdrive/My Drive/OUTPUT FILE NAME.tar.gz\" \"/gdrive/Shared drives/SHARED DRIVE NAME1/FILE OR FOLDER NAME\""
      ],
      "metadata": {
        "id": "C2G9VCutVOex"
      },
      "execution_count": null,
      "outputs": []
    },
    {
      "cell_type": "markdown",
      "source": [
        "**Create Tar.bz2 File:**"
      ],
      "metadata": {
        "id": "Oo1MyWZ-WiBu"
      }
    },
    {
      "cell_type": "markdown",
      "source": [
        "**Replace \"<font color=\"yellow\">OUTPUT FILE NAME</font>\"  with the name which you want of Final TAR.bz2 File.\"<font color=\"yellow\">SHARED DRIVE NAME1</font>\" with the Name of Shared Drive from which file (To be TAR.bz2) needs to be taken! Replace \"<font color=\"yellow\">FILE OR FOLDER NAME</font>\" with File(with Format)/Folder name which needs to be TAR.bz2**"
      ],
      "metadata": {
        "id": "RESxvQtJXXno"
      }
    },
    {
      "cell_type": "code",
      "source": [
        "!tar -cjvf \"/gdrive/My Drive/OUTPUT FILE NAME.tar.bz2\" \"/gdrive/Shared drives/SHARED DRIVE NAME1/FILE OR FOLDER NAME\""
      ],
      "metadata": {
        "id": "RJWBVSaxXNC4"
      },
      "execution_count": null,
      "outputs": []
    },
    {
      "cell_type": "markdown",
      "source": [
        "#**ADVANCED Pack/UnPack (Professionals only)**"
      ],
      "metadata": {
        "id": "Z9gr9d1ljNyE"
      }
    },
    {
      "cell_type": "markdown",
      "source": [
        "##**Pack all Data of Shared Drive (at once)**"
      ],
      "metadata": {
        "id": "AfQWxSTiiYDk"
      }
    },
    {
      "cell_type": "markdown",
      "source": [
        "**To pack all data of a particular Shared Drive into a particular Format then just use the below code as the source**\n",
        "```\n",
        "/gdrive/Shared drives/SHARED DRIVE NAME1/ # Source\n",
        "```\n",
        "**and**\n",
        "```\n",
        "/gdrive/Shared drives/SHARED DRIVE NAME2/ # Destination\n",
        "```\n",
        "**For My Drive as Source or Destination**\n",
        "```\n",
        "/gdrive/My Drive/ # Source or Destination\n",
        "```\n"
      ],
      "metadata": {
        "id": "QO45HWodieQm"
      }
    },
    {
      "cell_type": "code",
      "source": [
        "#<---Write Code Before Hastag (#)"
      ],
      "metadata": {
        "id": "0agZ4aX0i2sK"
      },
      "execution_count": null,
      "outputs": []
    }
  ]
}